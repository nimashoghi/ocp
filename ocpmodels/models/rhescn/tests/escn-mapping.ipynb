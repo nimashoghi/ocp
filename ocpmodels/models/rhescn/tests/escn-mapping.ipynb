{
 "cells": [
  {
   "cell_type": "code",
   "execution_count": 84,
   "metadata": {},
   "outputs": [
    {
     "name": "stderr",
     "output_type": "stream",
     "text": [
      "2024-04-06 21:23:49 (WARNING): Detected old config, converting to new format. Consider updating to avoid potential incompatibilities.\n"
     ]
    },
    {
     "name": "stdout",
     "output_type": "stream",
     "text": [
      "2024-04-06 21:23:49 (INFO): amp: true\n",
      "cmd:\n",
      "  checkpoint_dir: ./checkpoints/2024-04-06-21-24-16\n",
      "  commit: 6e3cd9b\n",
      "  identifier: ''\n",
      "  logs_dir: ./logs/wandb/2024-04-06-21-24-16\n",
      "  print_every: 10\n",
      "  results_dir: ./results/2024-04-06-21-24-16\n",
      "  seed: 0\n",
      "  timestamp_id: 2024-04-06-21-24-16\n",
      "dataset:\n",
      "  format: trajectory_lmdb\n",
      "  grad_target_mean: 0.0\n",
      "  grad_target_std: 2.887317180633545\n",
      "  key_mapping:\n",
      "    force: forces\n",
      "    y: energy\n",
      "  normalize_labels: true\n",
      "  src: /mnt/datasets/s2ef/2M/train/\n",
      "  target_mean: -0.7554450631141663\n",
      "  target_std: 2.887317180633545\n",
      "  transforms:\n",
      "    normalizer:\n",
      "      energy:\n",
      "        mean: -0.7554450631141663\n",
      "        stdev: 2.887317180633545\n",
      "      forces:\n",
      "        mean: 0.0\n",
      "        stdev: 2.887317180633545\n",
      "eval_metrics:\n",
      "  metrics:\n",
      "    energy:\n",
      "    - mae\n",
      "    forces:\n",
      "    - forcesx_mae\n",
      "    - forcesy_mae\n",
      "    - forcesz_mae\n",
      "    - mae\n",
      "    - cosine_similarity\n",
      "    - magnitude_error\n",
      "    misc:\n",
      "    - energy_forces_within_threshold\n",
      "gpus: 1\n",
      "logger: wandb\n",
      "loss_fns:\n",
      "- energy:\n",
      "    coefficient: 2\n",
      "    fn: mae\n",
      "- forces:\n",
      "    coefficient: 100\n",
      "    fn: l2mae\n",
      "model: escn\n",
      "model_attributes:\n",
      "  basis_width_scalar: 2.0\n",
      "  cutoff: 12.0\n",
      "  distance_function: gaussian\n",
      "  hidden_channels: 256\n",
      "  lmax_list:\n",
      "  - 4\n",
      "  max_neighbors: 20\n",
      "  mmax_list:\n",
      "  - 2\n",
      "  num_layers: 12\n",
      "  num_sphere_samples: 128\n",
      "  otf_graph: true\n",
      "  regress_forces: true\n",
      "  sphere_channels: 128\n",
      "  use_pbc: true\n",
      "noddp: false\n",
      "optim:\n",
      "  batch_size: 6\n",
      "  clip_grad_norm: 20\n",
      "  ema_decay: 0.999\n",
      "  energy_coefficient: 2\n",
      "  eval_batch_size: 6\n",
      "  eval_every: 5000\n",
      "  force_coefficient: 100\n",
      "  loss_energy: mae\n",
      "  loss_force: l2mae\n",
      "  lr_gamma: 0.3\n",
      "  lr_initial: 0.0008\n",
      "  lr_milestones:\n",
      "  - 145833\n",
      "  - 187500\n",
      "  - 229166\n",
      "  max_epochs: 12\n",
      "  num_workers: 8\n",
      "  optimizer: AdamW\n",
      "  optimizer_params:\n",
      "    amsgrad: true\n",
      "  warmup_factor: 0.2\n",
      "  warmup_steps: 100\n",
      "outputs:\n",
      "  energy:\n",
      "    level: system\n",
      "  forces:\n",
      "    eval_on_free_atoms: true\n",
      "    level: atom\n",
      "    train_on_free_atoms: true\n",
      "slurm: {}\n",
      "task:\n",
      "  dataset: trajectory_lmdb\n",
      "  description: Regressing to energies and forces for DFT trajectories from OCP\n",
      "  eval_on_free_atoms: true\n",
      "  grad_input: atomic forces\n",
      "  labels:\n",
      "  - potential energy\n",
      "  metric: mae\n",
      "  padded_collater: false\n",
      "  torch_compile:\n",
      "    debug: false\n",
      "    dynamic_shapes: false\n",
      "    enabled: false\n",
      "    max_autotune: true\n",
      "    profile: true\n",
      "  train_on_free_atoms: true\n",
      "  type: regression\n",
      "  val_subset: 1000\n",
      "trainer: s2ef\n",
      "val_dataset:\n",
      "  src: /mnt/datasets/s2ef/all/val_id/\n",
      "\n",
      "2024-04-06 21:23:49 (INFO): Loading dataset: trajectory_lmdb\n",
      "2024-04-06 21:23:49 (INFO): Loading dataset: trajectory_lmdb\n",
      "2024-04-06 21:23:49 (INFO): Batch balancing is disabled for single GPU training.\n",
      "2024-04-06 21:23:49 (INFO): Batch balancing is disabled for single GPU training.\n",
      "2024-04-06 21:23:49 (INFO): Loading model: escn\n",
      "2024-04-06 21:23:49 (INFO): Loaded eSCN with 36112896 parameters.\n"
     ]
    }
   ],
   "source": [
    "from ocpmodels.models.rhescnv8clean.tests.utils import test_context\n",
    "\n",
    "escnctx = test_context(\"/workspaces/ocp/configs/s2ef/2M/escn/escn-ckpt.yml\").__enter__()"
   ]
  },
  {
   "cell_type": "code",
   "execution_count": 89,
   "metadata": {},
   "outputs": [],
   "source": [
    "import lovely_tensors as lt\n",
    "\n",
    "lt.monkey_patch()"
   ]
  },
  {
   "cell_type": "code",
   "execution_count": 90,
   "metadata": {},
   "outputs": [
    {
     "name": "stdout",
     "output_type": "stream",
     "text": [
      "[5 4 3]\n",
      "tensor[19, 19] n=361 (1.4Kb) x∈[0., 1.000] μ=0.053 σ=0.224 cuda:0\n",
      "2\n"
     ]
    }
   ],
   "source": [
    "mapping = escnctx.trainer.model.coeff_mapping()\n",
    "\n",
    "print(mapping.m_size)\n",
    "print(mapping.to_m)\n",
    "\n",
    "mmax = mapping.mmax_list[0]\n",
    "print(mmax)"
   ]
  },
  {
   "cell_type": "code",
   "execution_count": 92,
   "metadata": {},
   "outputs": [
    {
     "data": {
      "text/plain": [
       "bidict({(0, 0): 0, (1, -1): 1, (1, 0): 2, (1, 1): 3, (2, -2): 4, (2, -1): 5, (2, 0): 6, (2, 1): 7, (2, 2): 8, (3, -2): 9, (3, -1): 10, (3, 0): 11, (3, 1): 12, (3, 2): 13, (4, -2): 14, (4, -1): 15, (4, 0): 16, (4, 1): 17, (4, 2): 18})"
      ]
     },
     "execution_count": 92,
     "metadata": {},
     "output_type": "execute_result"
    }
   ],
   "source": [
    "from bidict import bidict\n",
    "\n",
    "i = 0\n",
    "l_m_mapping = bidict[tuple[int, int], int]()\n",
    "for l in range(escnctx.trainer.model.lmax_list[0] + 1):\n",
    "    for m in range(-l, l + 1):\n",
    "        if abs(m) > mmax:\n",
    "            continue\n",
    "        l_m_mapping[(l, m)] = i\n",
    "        i += 1\n",
    "\n",
    "l_m_mapping"
   ]
  },
  {
   "cell_type": "code",
   "execution_count": 93,
   "metadata": {},
   "outputs": [
    {
     "data": {
      "text/plain": [
       "(-2, 2)"
      ]
     },
     "execution_count": 93,
     "metadata": {},
     "output_type": "execute_result"
    }
   ],
   "source": [
    "min_m = min(l_m_mapping.keys(), key=lambda x: x[1])[1]\n",
    "max_m = max(l_m_mapping.keys(), key=lambda x: x[1])[1]\n",
    "min_m, max_m"
   ]
  },
  {
   "cell_type": "code",
   "execution_count": 101,
   "metadata": {},
   "outputs": [
    {
     "name": "stdout",
     "output_type": "stream",
     "text": [
      "|m|=0; count=5\n",
      "l=0, m=0, [old=0] => [new=0]\n",
      "l=1, m=0, [old=2] => [new=1]\n",
      "l=2, m=0, [old=6] => [new=2]\n",
      "l=3, m=0, [old=11] => [new=3]\n",
      "l=4, m=0, [old=16] => [new=4]\n",
      "\n",
      "\n",
      "|m|=1; count=8\n",
      "l=1, m=1, [old=3] => [new=5]\n",
      "l=2, m=1, [old=7] => [new=6]\n",
      "l=3, m=1, [old=12] => [new=7]\n",
      "l=4, m=1, [old=17] => [new=8]\n",
      "\n",
      "l=1, m=-1, [old=1] => [new=9]\n",
      "l=2, m=-1, [old=5] => [new=10]\n",
      "l=3, m=-1, [old=10] => [new=11]\n",
      "l=4, m=-1, [old=15] => [new=12]\n",
      "\n",
      "\n",
      "|m|=2; count=6\n",
      "l=2, m=2, [old=8] => [new=13]\n",
      "l=3, m=2, [old=13] => [new=14]\n",
      "l=4, m=2, [old=18] => [new=15]\n",
      "\n",
      "l=2, m=-2, [old=4] => [new=16]\n",
      "l=3, m=-2, [old=9] => [new=17]\n",
      "l=4, m=-2, [old=14] => [new=18]\n",
      "\n",
      "\n"
     ]
    }
   ],
   "source": [
    "mapping = escnctx.trainer.model.coeff_mapping()\n",
    "\n",
    "new_vector = [None] * mapping.to_m.shape[0]\n",
    "\n",
    "i = 0\n",
    "for m_abs in range(0, max_m + 1):\n",
    "    m_text = []\n",
    "    count = 0\n",
    "    for m in [m_abs, -m_abs] if m_abs > 0 else [0]:\n",
    "        for l in range(m_abs, escnctx.trainer.model.lmax_list[0] + 1):\n",
    "            old = l_m_mapping[(l, m)]\n",
    "\n",
    "            mapping_vector = mapping.to_m[:, old]\n",
    "            # Make sure all are 0 except one, which is 1\n",
    "            assert mapping_vector.count_nonzero() == 1\n",
    "            assert mapping_vector.sum() == 1\n",
    "\n",
    "            # Get the integer index of the 1\n",
    "            new = mapping_vector.argmax()\n",
    "            # print(f\"l={l}, m={m}, [old={old}] => [new={new}]\")\n",
    "            m_text.append(f\"l={l}, m={m}, [old={old}] => [new={new}]\")\n",
    "            count += 1\n",
    "\n",
    "            new_vector[old] = i\n",
    "\n",
    "        # print()\n",
    "        m_text.append(\"\")\n",
    "\n",
    "    print(f\"|m|={m_abs}; count={count}\")\n",
    "    for t in m_text:\n",
    "        print(t)\n",
    "\n",
    "    print()"
   ]
  },
  {
   "cell_type": "code",
   "execution_count": 95,
   "metadata": {},
   "outputs": [],
   "source": [
    "for i in range(len(new_vector)):\n",
    "    if new_vector[i] is not None:\n",
    "        continue\n",
    "\n",
    "    l, m = l_m_mapping.inverse[i]\n",
    "    print(f\"l={l}, m={m} is missing\")"
   ]
  }
 ],
 "metadata": {
  "kernelspec": {
   "display_name": "ocp-pt22",
   "language": "python",
   "name": "python3"
  },
  "language_info": {
   "codemirror_mode": {
    "name": "ipython",
    "version": 3
   },
   "file_extension": ".py",
   "mimetype": "text/x-python",
   "name": "python",
   "nbconvert_exporter": "python",
   "pygments_lexer": "ipython3",
   "version": "3.11.6"
  }
 },
 "nbformat": 4,
 "nbformat_minor": 2
}
