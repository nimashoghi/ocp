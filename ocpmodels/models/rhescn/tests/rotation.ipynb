{
 "cells": [
  {
   "cell_type": "code",
   "execution_count": 39,
   "metadata": {},
   "outputs": [
    {
     "name": "stderr",
     "output_type": "stream",
     "text": [
      "2024-04-04 17:53:21 (WARNING): Detected old config, converting to new format. Consider updating to avoid potential incompatibilities.\n"
     ]
    },
    {
     "name": "stdout",
     "output_type": "stream",
     "text": [
      "2024-04-04 17:53:21 (INFO): amp: true\n",
      "cmd:\n",
      "  checkpoint_dir: ./checkpoints/2024-04-04-17-53-04\n",
      "  commit: efbcfe2\n",
      "  identifier: ''\n",
      "  logs_dir: ./logs/wandb/2024-04-04-17-53-04\n",
      "  print_every: 10\n",
      "  results_dir: ./results/2024-04-04-17-53-04\n",
      "  seed: 0\n",
      "  timestamp_id: 2024-04-04-17-53-04\n",
      "dataset:\n",
      "  format: trajectory_lmdb\n",
      "  grad_target_mean: 0.0\n",
      "  grad_target_std: 2.887317180633545\n",
      "  key_mapping:\n",
      "    force: forces\n",
      "    y: energy\n",
      "  normalize_labels: true\n",
      "  src: /mnt/datasets/s2ef/2M/train/\n",
      "  target_mean: -0.7554450631141663\n",
      "  target_std: 2.887317180633545\n",
      "  transforms:\n",
      "    normalizer:\n",
      "      energy:\n",
      "        mean: -0.7554450631141663\n",
      "        stdev: 2.887317180633545\n",
      "      forces:\n",
      "        mean: 0.0\n",
      "        stdev: 2.887317180633545\n",
      "eval_metrics:\n",
      "  metrics:\n",
      "    energy:\n",
      "    - mae\n",
      "    forces:\n",
      "    - forcesx_mae\n",
      "    - forcesy_mae\n",
      "    - forcesz_mae\n",
      "    - mae\n",
      "    - cosine_similarity\n",
      "    - magnitude_error\n",
      "    misc:\n",
      "    - energy_forces_within_threshold\n",
      "gpus: 1\n",
      "logger: wandb\n",
      "loss_fns:\n",
      "- energy:\n",
      "    coefficient: 2\n",
      "    fn: mae\n",
      "- forces:\n",
      "    coefficient: 100\n",
      "    fn: l2mae\n",
      "model: rhescnv8clean\n",
      "model_attributes:\n",
      "  basis_width_scalar: 2.0\n",
      "  cutoff: 12.0\n",
      "  distance_function: gaussian\n",
      "  grid_fp16: false\n",
      "  grid_res:\n",
      "  - 18\n",
      "  - 19\n",
      "  hidden_channels: 128\n",
      "  lmax_list:\n",
      "  - 8\n",
      "  max_neighbors: 20\n",
      "  mmax_list:\n",
      "  - 4\n",
      "  num_layers: 4\n",
      "  num_sphere_samples: 64\n",
      "  otf_graph: true\n",
      "  regress_forces: true\n",
      "  show_timing_info: false\n",
      "  sphere_channels: 64\n",
      "  use_pbc: true\n",
      "  wigner_fp16: false\n",
      "noddp: false\n",
      "optim:\n",
      "  batch_size: 1\n",
      "  clip_grad_norm: 10\n",
      "  ema_decay: 0.999\n",
      "  energy_coefficient: 2\n",
      "  eval_batch_size: 6\n",
      "  eval_every: 5000\n",
      "  force_coefficient: 100\n",
      "  loss_energy: mae\n",
      "  loss_force: l2mae\n",
      "  lr_gamma: 0.3\n",
      "  lr_initial: 0.0008\n",
      "  lr_milestones:\n",
      "  - 145833\n",
      "  - 187500\n",
      "  - 229166\n",
      "  max_epochs: 12\n",
      "  num_workers: 0\n",
      "  optimizer: AdamW\n",
      "  optimizer_params:\n",
      "    amsgrad: true\n",
      "  warmup_factor: 0.2\n",
      "  warmup_steps: 100\n",
      "outputs:\n",
      "  energy:\n",
      "    level: system\n",
      "  forces:\n",
      "    eval_on_free_atoms: true\n",
      "    level: atom\n",
      "    train_on_free_atoms: true\n",
      "slurm: {}\n",
      "task:\n",
      "  dataset: trajectory_lmdb\n",
      "  description: Regressing to energies and forces for DFT trajectories from OCP\n",
      "  eval_on_free_atoms: true\n",
      "  grad_input: atomic forces\n",
      "  labels:\n",
      "  - potential energy\n",
      "  metric: mae\n",
      "  padded_collater: false\n",
      "  torch_compile:\n",
      "    debug: false\n",
      "    dynamic_shapes: false\n",
      "    enabled: false\n",
      "    max_autotune: true\n",
      "    profile: true\n",
      "  train_on_free_atoms: true\n",
      "  type: regression\n",
      "trainer: s2ef\n",
      "val_dataset:\n",
      "  src: /mnt/datasets/s2ef/all/val_id/\n",
      "\n",
      "2024-04-04 17:53:21 (INFO): Loading dataset: trajectory_lmdb\n"
     ]
    },
    {
     "name": "stdout",
     "output_type": "stream",
     "text": [
      "2024-04-04 17:53:21 (INFO): Batch balancing is disabled for single GPU training.\n",
      "2024-04-04 17:53:21 (INFO): Batch balancing is disabled for single GPU training.\n",
      "2024-04-04 17:53:21 (INFO): Loading model: rhescnv8clean\n",
      "2024-04-04 17:53:21 (INFO): Loaded RHESCN with 8428544 parameters.\n"
     ]
    },
    {
     "name": "stderr",
     "output_type": "stream",
     "text": [
      "2024-04-04 17:53:21 (WARNING): Detected old config, converting to new format. Consider updating to avoid potential incompatibilities.\n"
     ]
    },
    {
     "name": "stdout",
     "output_type": "stream",
     "text": [
      "2024-04-04 17:53:21 (INFO): amp: true\n",
      "cmd:\n",
      "  checkpoint_dir: ./checkpoints/2024-04-04-17-53-04\n",
      "  commit: efbcfe2\n",
      "  identifier: ''\n",
      "  logs_dir: ./logs/wandb/2024-04-04-17-53-04\n",
      "  print_every: 10\n",
      "  results_dir: ./results/2024-04-04-17-53-04\n",
      "  seed: 0\n",
      "  timestamp_id: 2024-04-04-17-53-04\n",
      "dataset:\n",
      "  format: trajectory_lmdb\n",
      "  grad_target_mean: 0.0\n",
      "  grad_target_std: 2.887317180633545\n",
      "  key_mapping:\n",
      "    force: forces\n",
      "    y: energy\n",
      "  normalize_labels: true\n",
      "  src: /mnt/datasets/s2ef/2M/train/\n",
      "  target_mean: -0.7554450631141663\n",
      "  target_std: 2.887317180633545\n",
      "  transforms:\n",
      "    normalizer:\n",
      "      energy:\n",
      "        mean: -0.7554450631141663\n",
      "        stdev: 2.887317180633545\n",
      "      forces:\n",
      "        mean: 0.0\n",
      "        stdev: 2.887317180633545\n",
      "eval_metrics:\n",
      "  metrics:\n",
      "    energy:\n",
      "    - mae\n",
      "    forces:\n",
      "    - forcesx_mae\n",
      "    - forcesy_mae\n",
      "    - forcesz_mae\n",
      "    - mae\n",
      "    - cosine_similarity\n",
      "    - magnitude_error\n",
      "    misc:\n",
      "    - energy_forces_within_threshold\n",
      "gpus: 1\n",
      "logger: wandb\n",
      "loss_fns:\n",
      "- energy:\n",
      "    coefficient: 2\n",
      "    fn: mae\n",
      "- forces:\n",
      "    coefficient: 100\n",
      "    fn: l2mae\n",
      "model: escn\n",
      "model_attributes:\n",
      "  basis_width_scalar: 2.0\n",
      "  cutoff: 12.0\n",
      "  distance_function: gaussian\n",
      "  hidden_channels: 256\n",
      "  lmax_list:\n",
      "  - 8\n",
      "  max_neighbors: 20\n",
      "  mmax_list:\n",
      "  - 8\n",
      "  num_layers: 4\n",
      "  num_sphere_samples: 128\n",
      "  otf_graph: true\n",
      "  regress_forces: true\n",
      "  sphere_channels: 128\n",
      "  use_pbc: true\n",
      "noddp: false\n",
      "optim:\n",
      "  batch_size: 4\n",
      "  clip_grad_norm: 100\n",
      "  ema_decay: 0.999\n",
      "  energy_coefficient: 2\n",
      "  eval_batch_size: 6\n",
      "  eval_every: 5000\n",
      "  force_coefficient: 100\n",
      "  loss_energy: mae\n",
      "  loss_force: l2mae\n",
      "  lr_gamma: 0.3\n",
      "  lr_initial: 0.0008\n",
      "  lr_milestones:\n",
      "  - 145833\n",
      "  - 187500\n",
      "  - 229166\n",
      "  max_epochs: 12\n",
      "  num_workers: 8\n",
      "  optimizer: AdamW\n",
      "  optimizer_params:\n",
      "    amsgrad: true\n",
      "  warmup_factor: 0.2\n",
      "  warmup_steps: 100\n",
      "outputs:\n",
      "  energy:\n",
      "    level: system\n",
      "  forces:\n",
      "    eval_on_free_atoms: true\n",
      "    level: atom\n",
      "    train_on_free_atoms: true\n",
      "slurm: {}\n",
      "task:\n",
      "  dataset: trajectory_lmdb\n",
      "  description: Regressing to energies and forces for DFT trajectories from OCP\n",
      "  eval_on_free_atoms: true\n",
      "  grad_input: atomic forces\n",
      "  labels:\n",
      "  - potential energy\n",
      "  metric: mae\n",
      "  train_on_free_atoms: true\n",
      "  type: regression\n",
      "trainer: s2ef\n",
      "val_dataset:\n",
      "  src: /mnt/datasets/s2ef/all/val_id/\n",
      "\n",
      "2024-04-04 17:53:21 (INFO): Loading dataset: trajectory_lmdb\n",
      "2024-04-04 17:53:21 (INFO): Loading dataset: trajectory_lmdb\n",
      "2024-04-04 17:53:21 (INFO): Batch balancing is disabled for single GPU training.\n",
      "2024-04-04 17:53:21 (INFO): Batch balancing is disabled for single GPU training.\n",
      "2024-04-04 17:53:21 (INFO): Loading model: escn\n",
      "2024-04-04 17:53:21 (INFO): Loaded eSCN with 47775232 parameters.\n"
     ]
    }
   ],
   "source": [
    "from ocpmodels.models.rhescnv8clean.tests.utils import test_context\n",
    "\n",
    "rhctx = test_context(\"/workspaces/ocp/configs/s2ef/2M/escn/rhescn.yml\").__enter__()\n",
    "escnctx = test_context(\n",
    "    \"/workspaces/ocp/configs/s2ef/2M/escn/eSCN-L6-M2-Lay12.yml\"\n",
    ").__enter__()"
   ]
  },
  {
   "cell_type": "code",
   "execution_count": 40,
   "metadata": {},
   "outputs": [],
   "source": [
    "import lovely_tensors as lt\n",
    "\n",
    "lt.monkey_patch()"
   ]
  },
  {
   "cell_type": "code",
   "execution_count": 41,
   "metadata": {},
   "outputs": [
    {
     "name": "stdout",
     "output_type": "stream",
     "text": [
      "<class 'ocpmodels.models.rhescnv8clean.model.RHESCN'> <class 'ocpmodels.models.escn.escn.eSCN'> <class 'torch.utils.data.dataloader.DataLoader'>\n"
     ]
    }
   ],
   "source": [
    "rhescn = rhctx.trainer._unwrapped_model\n",
    "escn = escnctx.trainer._unwrapped_model\n",
    "dl = rhctx.trainer.train_loader\n",
    "print(type(rhescn), type(escn), type(dl))"
   ]
  },
  {
   "cell_type": "code",
   "execution_count": 42,
   "metadata": {},
   "outputs": [
    {
     "name": "stdout",
     "output_type": "stream",
     "text": [
      "DataBatch(pos=[51, 3], cell=[1, 3, 3], atomic_numbers=[51], natoms=[1], tags=[51], fixed=[51], sid=[1], fid=[1], id=[1], energy=[1], forces=[51, 3], batch=[51], ptr=[2])\n"
     ]
    }
   ],
   "source": [
    "batch = next(iter(dl)).cuda()\n",
    "print(batch)"
   ]
  },
  {
   "cell_type": "code",
   "execution_count": 43,
   "metadata": {},
   "outputs": [
    {
     "data": {
      "text/html": [
       "<pre style=\"white-space:pre;overflow-x:auto;line-height:normal;font-family:Menlo,'DejaVu Sans Mono',consolas,'Courier New',monospace\"><span style=\"font-weight: bold\">{</span>\n",
       "    <span style=\"color: #008000; text-decoration-color: #008000\">'pos'</span>: tensor<span style=\"font-weight: bold\">[</span><span style=\"color: #008080; text-decoration-color: #008080; font-weight: bold\">51</span>, <span style=\"color: #008080; text-decoration-color: #008080; font-weight: bold\">3</span><span style=\"font-weight: bold\">]</span> <span style=\"color: #808000; text-decoration-color: #808000\">n</span>=<span style=\"color: #008080; text-decoration-color: #008080; font-weight: bold\">153</span> x∈<span style=\"font-weight: bold\">[</span><span style=\"color: #008080; text-decoration-color: #008080; font-weight: bold\">-0.010</span>, <span style=\"color: #008080; text-decoration-color: #008080; font-weight: bold\">32.595</span><span style=\"font-weight: bold\">]</span> <span style=\"color: #808000; text-decoration-color: #808000\">μ</span>=<span style=\"color: #008080; text-decoration-color: #008080; font-weight: bold\">10.041</span> <span style=\"color: #808000; text-decoration-color: #808000\">σ</span>=<span style=\"color: #008080; text-decoration-color: #008080; font-weight: bold\">9.819</span> cu<span style=\"color: #00ff00; text-decoration-color: #00ff00; font-weight: bold\">da:0</span>,\n",
       "    <span style=\"color: #008000; text-decoration-color: #008000\">'atomic_numbers'</span>: tensor<span style=\"font-weight: bold\">[</span><span style=\"color: #008080; text-decoration-color: #008080; font-weight: bold\">51</span><span style=\"font-weight: bold\">]</span> i64 x∈<span style=\"font-weight: bold\">[</span><span style=\"color: #008080; text-decoration-color: #008080; font-weight: bold\">1</span>, <span style=\"color: #008080; text-decoration-color: #008080; font-weight: bold\">80</span><span style=\"font-weight: bold\">]</span> <span style=\"color: #808000; text-decoration-color: #808000\">μ</span>=<span style=\"color: #008080; text-decoration-color: #008080; font-weight: bold\">40.000</span> <span style=\"color: #808000; text-decoration-color: #808000\">σ</span>=<span style=\"color: #008080; text-decoration-color: #008080; font-weight: bold\">33.058</span> cu<span style=\"color: #00ff00; text-decoration-color: #00ff00; font-weight: bold\">da:0</span>,\n",
       "    <span style=\"color: #008000; text-decoration-color: #008000\">'batch_idx'</span>: tensor<span style=\"font-weight: bold\">[</span><span style=\"color: #008080; text-decoration-color: #008080; font-weight: bold\">51</span><span style=\"font-weight: bold\">]</span> i64 <span style=\"color: #7f7f7f; text-decoration-color: #7f7f7f\">all_zeros</span> cu<span style=\"color: #00ff00; text-decoration-color: #00ff00; font-weight: bold\">da:0</span>,\n",
       "    <span style=\"color: #008000; text-decoration-color: #008000\">'natoms'</span>: tensor<span style=\"font-weight: bold\">[</span><span style=\"color: #008080; text-decoration-color: #008080; font-weight: bold\">1</span><span style=\"font-weight: bold\">]</span> i64 cu<span style=\"color: #00ff00; text-decoration-color: #00ff00; font-weight: bold\">da:0</span> <span style=\"font-weight: bold\">[</span><span style=\"color: #008080; text-decoration-color: #008080; font-weight: bold\">51</span><span style=\"font-weight: bold\">]</span>,\n",
       "    <span style=\"color: #008000; text-decoration-color: #008000\">'fixed'</span>: tensor<span style=\"font-weight: bold\">[</span><span style=\"color: #008080; text-decoration-color: #008080; font-weight: bold\">51</span><span style=\"font-weight: bold\">]</span> x∈<span style=\"font-weight: bold\">[</span><span style=\"color: #008080; text-decoration-color: #008080; font-weight: bold\">0</span>., <span style=\"color: #008080; text-decoration-color: #008080; font-weight: bold\">1.000</span><span style=\"font-weight: bold\">]</span> <span style=\"color: #808000; text-decoration-color: #808000\">μ</span>=<span style=\"color: #008080; text-decoration-color: #008080; font-weight: bold\">0.588</span> <span style=\"color: #808000; text-decoration-color: #808000\">σ</span>=<span style=\"color: #008080; text-decoration-color: #008080; font-weight: bold\">0.497</span> cu<span style=\"color: #00ff00; text-decoration-color: #00ff00; font-weight: bold\">da:0</span>,\n",
       "    <span style=\"color: #008000; text-decoration-color: #008000\">'energy_target'</span>: tensor<span style=\"font-weight: bold\">[</span><span style=\"color: #008080; text-decoration-color: #008080; font-weight: bold\">1</span><span style=\"font-weight: bold\">]</span> f64 cu<span style=\"color: #00ff00; text-decoration-color: #00ff00; font-weight: bold\">da:0</span> <span style=\"font-weight: bold\">[</span><span style=\"color: #008080; text-decoration-color: #008080; font-weight: bold\">-2.016</span><span style=\"font-weight: bold\">]</span>,\n",
       "    <span style=\"color: #008000; text-decoration-color: #008000\">'force_target'</span>: tensor<span style=\"font-weight: bold\">[</span><span style=\"color: #008080; text-decoration-color: #008080; font-weight: bold\">51</span>, <span style=\"color: #008080; text-decoration-color: #008080; font-weight: bold\">3</span><span style=\"font-weight: bold\">]</span> <span style=\"color: #808000; text-decoration-color: #808000\">n</span>=<span style=\"color: #008080; text-decoration-color: #008080; font-weight: bold\">153</span> x∈<span style=\"font-weight: bold\">[</span><span style=\"color: #008080; text-decoration-color: #008080; font-weight: bold\">-0.286</span>, <span style=\"color: #008080; text-decoration-color: #008080; font-weight: bold\">0.253</span><span style=\"font-weight: bold\">]</span> <span style=\"color: #808000; text-decoration-color: #808000\">μ</span>=<span style=\"color: #008080; text-decoration-color: #008080; font-weight: bold\">1.461e-10</span> <span style=\"color: #808000; text-decoration-color: #808000\">σ</span>=<span style=\"color: #008080; text-decoration-color: #008080; font-weight: bold\">0.068</span> cu<span style=\"color: #00ff00; text-decoration-color: #00ff00; font-weight: bold\">da:0</span>,\n",
       "    <span style=\"color: #008000; text-decoration-color: #008000\">'edge_index'</span>: tensor<span style=\"font-weight: bold\">[</span><span style=\"color: #008080; text-decoration-color: #008080; font-weight: bold\">2</span>, <span style=\"color: #008080; text-decoration-color: #008080; font-weight: bold\">1218</span><span style=\"font-weight: bold\">]</span> i64 <span style=\"color: #808000; text-decoration-color: #808000\">n</span>=<span style=\"color: #008080; text-decoration-color: #008080; font-weight: bold\">2436</span> <span style=\"font-weight: bold\">(</span>19Kb<span style=\"font-weight: bold\">)</span> x∈<span style=\"font-weight: bold\">[</span><span style=\"color: #008080; text-decoration-color: #008080; font-weight: bold\">0</span>, <span style=\"color: #008080; text-decoration-color: #008080; font-weight: bold\">50</span><span style=\"font-weight: bold\">]</span> <span style=\"color: #808000; text-decoration-color: #808000\">μ</span>=<span style=\"color: #008080; text-decoration-color: #008080; font-weight: bold\">24.060</span> <span style=\"color: #808000; text-decoration-color: #808000\">σ</span>=<span style=\"color: #008080; text-decoration-color: #008080; font-weight: bold\">14.260</span> cu<span style=\"color: #00ff00; text-decoration-color: #00ff00; font-weight: bold\">da:0</span>,\n",
       "    <span style=\"color: #008000; text-decoration-color: #008000\">'edge_distance'</span>: tensor<span style=\"font-weight: bold\">[</span><span style=\"color: #008080; text-decoration-color: #008080; font-weight: bold\">1218</span><span style=\"font-weight: bold\">]</span> <span style=\"color: #008080; text-decoration-color: #008080; font-weight: bold\">4.</span>8Kb x∈<span style=\"font-weight: bold\">[</span><span style=\"color: #008080; text-decoration-color: #008080; font-weight: bold\">1.092</span>, <span style=\"color: #008080; text-decoration-color: #008080; font-weight: bold\">8.069</span><span style=\"font-weight: bold\">]</span> <span style=\"color: #808000; text-decoration-color: #808000\">μ</span>=<span style=\"color: #008080; text-decoration-color: #008080; font-weight: bold\">4.571</span> <span style=\"color: #808000; text-decoration-color: #808000\">σ</span>=<span style=\"color: #008080; text-decoration-color: #008080; font-weight: bold\">1.319</span> cu<span style=\"color: #00ff00; text-decoration-color: #00ff00; font-weight: bold\">da:0</span>,\n",
       "    <span style=\"color: #008000; text-decoration-color: #008000\">'edge_distance_vec'</span>: tensor<span style=\"font-weight: bold\">[</span><span style=\"color: #008080; text-decoration-color: #008080; font-weight: bold\">1218</span>, <span style=\"color: #008080; text-decoration-color: #008080; font-weight: bold\">3</span><span style=\"font-weight: bold\">]</span> <span style=\"color: #808000; text-decoration-color: #808000\">n</span>=<span style=\"color: #008080; text-decoration-color: #008080; font-weight: bold\">3654</span> <span style=\"font-weight: bold\">(</span>14Kb<span style=\"font-weight: bold\">)</span> x∈<span style=\"font-weight: bold\">[</span><span style=\"color: #008080; text-decoration-color: #008080; font-weight: bold\">-7.391</span>, <span style=\"color: #008080; text-decoration-color: #008080; font-weight: bold\">7.197</span><span style=\"font-weight: bold\">]</span> <span style=\"color: #808000; text-decoration-color: #808000\">μ</span>=<span style=\"color: #008080; text-decoration-color: #008080; font-weight: bold\">0.000</span> <span style=\"color: #808000; text-decoration-color: #808000\">σ</span>=<span style=\"color: #008080; text-decoration-color: #008080; font-weight: bold\">2.747</span> cu<span style=\"color: #00ff00; text-decoration-color: #00ff00; font-weight: bold\">da:0</span>\n",
       "<span style=\"font-weight: bold\">}</span>\n",
       "</pre>\n"
      ],
      "text/plain": [
       "\u001b[1m{\u001b[0m\n",
       "    \u001b[32m'pos'\u001b[0m: tensor\u001b[1m[\u001b[0m\u001b[1;36m51\u001b[0m, \u001b[1;36m3\u001b[0m\u001b[1m]\u001b[0m \u001b[33mn\u001b[0m=\u001b[1;36m153\u001b[0m x∈\u001b[1m[\u001b[0m\u001b[1;36m-0.010\u001b[0m, \u001b[1;36m32.595\u001b[0m\u001b[1m]\u001b[0m \u001b[33mμ\u001b[0m=\u001b[1;36m10\u001b[0m\u001b[1;36m.041\u001b[0m \u001b[33mσ\u001b[0m=\u001b[1;36m9\u001b[0m\u001b[1;36m.819\u001b[0m cu\u001b[1;92mda:0\u001b[0m,\n",
       "    \u001b[32m'atomic_numbers'\u001b[0m: tensor\u001b[1m[\u001b[0m\u001b[1;36m51\u001b[0m\u001b[1m]\u001b[0m i64 x∈\u001b[1m[\u001b[0m\u001b[1;36m1\u001b[0m, \u001b[1;36m80\u001b[0m\u001b[1m]\u001b[0m \u001b[33mμ\u001b[0m=\u001b[1;36m40\u001b[0m\u001b[1;36m.000\u001b[0m \u001b[33mσ\u001b[0m=\u001b[1;36m33\u001b[0m\u001b[1;36m.058\u001b[0m cu\u001b[1;92mda:0\u001b[0m,\n",
       "    \u001b[32m'batch_idx'\u001b[0m: tensor\u001b[1m[\u001b[0m\u001b[1;36m51\u001b[0m\u001b[1m]\u001b[0m i64 \u001b[38;2;127;127;127mall_zeros\u001b[0m cu\u001b[1;92mda:0\u001b[0m,\n",
       "    \u001b[32m'natoms'\u001b[0m: tensor\u001b[1m[\u001b[0m\u001b[1;36m1\u001b[0m\u001b[1m]\u001b[0m i64 cu\u001b[1;92mda:0\u001b[0m \u001b[1m[\u001b[0m\u001b[1;36m51\u001b[0m\u001b[1m]\u001b[0m,\n",
       "    \u001b[32m'fixed'\u001b[0m: tensor\u001b[1m[\u001b[0m\u001b[1;36m51\u001b[0m\u001b[1m]\u001b[0m x∈\u001b[1m[\u001b[0m\u001b[1;36m0\u001b[0m., \u001b[1;36m1.000\u001b[0m\u001b[1m]\u001b[0m \u001b[33mμ\u001b[0m=\u001b[1;36m0\u001b[0m\u001b[1;36m.588\u001b[0m \u001b[33mσ\u001b[0m=\u001b[1;36m0\u001b[0m\u001b[1;36m.497\u001b[0m cu\u001b[1;92mda:0\u001b[0m,\n",
       "    \u001b[32m'energy_target'\u001b[0m: tensor\u001b[1m[\u001b[0m\u001b[1;36m1\u001b[0m\u001b[1m]\u001b[0m f64 cu\u001b[1;92mda:0\u001b[0m \u001b[1m[\u001b[0m\u001b[1;36m-2.016\u001b[0m\u001b[1m]\u001b[0m,\n",
       "    \u001b[32m'force_target'\u001b[0m: tensor\u001b[1m[\u001b[0m\u001b[1;36m51\u001b[0m, \u001b[1;36m3\u001b[0m\u001b[1m]\u001b[0m \u001b[33mn\u001b[0m=\u001b[1;36m153\u001b[0m x∈\u001b[1m[\u001b[0m\u001b[1;36m-0.286\u001b[0m, \u001b[1;36m0.253\u001b[0m\u001b[1m]\u001b[0m \u001b[33mμ\u001b[0m=\u001b[1;36m1\u001b[0m\u001b[1;36m.461e-10\u001b[0m \u001b[33mσ\u001b[0m=\u001b[1;36m0\u001b[0m\u001b[1;36m.068\u001b[0m cu\u001b[1;92mda:0\u001b[0m,\n",
       "    \u001b[32m'edge_index'\u001b[0m: tensor\u001b[1m[\u001b[0m\u001b[1;36m2\u001b[0m, \u001b[1;36m1218\u001b[0m\u001b[1m]\u001b[0m i64 \u001b[33mn\u001b[0m=\u001b[1;36m2436\u001b[0m \u001b[1m(\u001b[0m19Kb\u001b[1m)\u001b[0m x∈\u001b[1m[\u001b[0m\u001b[1;36m0\u001b[0m, \u001b[1;36m50\u001b[0m\u001b[1m]\u001b[0m \u001b[33mμ\u001b[0m=\u001b[1;36m24\u001b[0m\u001b[1;36m.060\u001b[0m \u001b[33mσ\u001b[0m=\u001b[1;36m14\u001b[0m\u001b[1;36m.260\u001b[0m cu\u001b[1;92mda:0\u001b[0m,\n",
       "    \u001b[32m'edge_distance'\u001b[0m: tensor\u001b[1m[\u001b[0m\u001b[1;36m1218\u001b[0m\u001b[1m]\u001b[0m \u001b[1;36m4.\u001b[0m8Kb x∈\u001b[1m[\u001b[0m\u001b[1;36m1.092\u001b[0m, \u001b[1;36m8.069\u001b[0m\u001b[1m]\u001b[0m \u001b[33mμ\u001b[0m=\u001b[1;36m4\u001b[0m\u001b[1;36m.571\u001b[0m \u001b[33mσ\u001b[0m=\u001b[1;36m1\u001b[0m\u001b[1;36m.319\u001b[0m cu\u001b[1;92mda:0\u001b[0m,\n",
       "    \u001b[32m'edge_distance_vec'\u001b[0m: tensor\u001b[1m[\u001b[0m\u001b[1;36m1218\u001b[0m, \u001b[1;36m3\u001b[0m\u001b[1m]\u001b[0m \u001b[33mn\u001b[0m=\u001b[1;36m3654\u001b[0m \u001b[1m(\u001b[0m14Kb\u001b[1m)\u001b[0m x∈\u001b[1m[\u001b[0m\u001b[1;36m-7.391\u001b[0m, \u001b[1;36m7.197\u001b[0m\u001b[1m]\u001b[0m \u001b[33mμ\u001b[0m=\u001b[1;36m0\u001b[0m\u001b[1;36m.000\u001b[0m \u001b[33mσ\u001b[0m=\u001b[1;36m2\u001b[0m\u001b[1;36m.747\u001b[0m cu\u001b[1;92mda:0\u001b[0m\n",
       "\u001b[1m}\u001b[0m\n"
      ]
     },
     "metadata": {},
     "output_type": "display_data"
    }
   ],
   "source": [
    "import rich\n",
    "\n",
    "from ocpmodels.models.rhescnv8clean.radius_graph_utils import (\n",
    "    generate_graph,\n",
    ")\n",
    "\n",
    "(\n",
    "    edge_index,\n",
    "    edge_distance,\n",
    "    edge_distance_vec,\n",
    "    _,\n",
    "    _,  # cell offset distances\n",
    "    _,\n",
    ") = generate_graph(\n",
    "    batch.pos,\n",
    "    batch.cell,\n",
    "    batch.batch,\n",
    "    batch.natoms,\n",
    "    cutoff=rhescn.cutoff,\n",
    "    max_neighbors=rhescn.max_neighbors,\n",
    "    use_pbc=rhescn.use_pbc,\n",
    "    otf_graph=rhescn.otf_graph,\n",
    "    padded_collater_config=rhctx.trainer._padded_collater_config,\n",
    ")\n",
    "pos = batch.pos\n",
    "atomic_numbers = batch.atomic_numbers.long()\n",
    "batch_idx = batch.batch\n",
    "natoms = batch.natoms\n",
    "fixed = batch.fixed\n",
    "energy_target = batch.energy\n",
    "force_target = batch.forces\n",
    "\n",
    "rich.print(\n",
    "    {\n",
    "        \"pos\": pos,\n",
    "        \"atomic_numbers\": atomic_numbers,\n",
    "        \"batch_idx\": batch_idx,\n",
    "        \"natoms\": natoms,\n",
    "        \"fixed\": fixed,\n",
    "        \"energy_target\": energy_target,\n",
    "        \"force_target\": force_target,\n",
    "        \"edge_index\": edge_index,\n",
    "        \"edge_distance\": edge_distance,\n",
    "        \"edge_distance_vec\": edge_distance_vec,\n",
    "    }\n",
    ")"
   ]
  },
  {
   "cell_type": "code",
   "execution_count": 44,
   "metadata": {},
   "outputs": [
    {
     "data": {
      "text/html": [
       "<pre style=\"white-space:pre;overflow-x:auto;line-height:normal;font-family:Menlo,'DejaVu Sans Mono',consolas,'Courier New',monospace\"><span style=\"color: #800080; text-decoration-color: #800080; font-weight: bold\">Rhomboidal_SO3_Rotation_Parallel_FastMM</span><span style=\"font-weight: bold\">(</span>\n",
       "    <span style=\"color: #808000; text-decoration-color: #808000\">wigner</span>=<span style=\"color: #800080; text-decoration-color: #800080\">tensor</span><span style=\"font-weight: bold\">[</span><span style=\"color: #008080; text-decoration-color: #008080; font-weight: bold\">2436</span>, <span style=\"color: #008080; text-decoration-color: #008080; font-weight: bold\">50</span>, <span style=\"color: #008080; text-decoration-color: #008080; font-weight: bold\">81</span><span style=\"font-weight: bold\">]</span> <span style=\"color: #808000; text-decoration-color: #808000\">n</span>=<span style=\"color: #008080; text-decoration-color: #008080; font-weight: bold\">9865800</span> <span style=\"font-weight: bold\">(</span>38Mb<span style=\"font-weight: bold\">)</span> x∈<span style=\"font-weight: bold\">[</span><span style=\"color: #008080; text-decoration-color: #008080; font-weight: bold\">-1.000</span>, <span style=\"color: #008080; text-decoration-color: #008080; font-weight: bold\">1.000</span><span style=\"font-weight: bold\">]</span> <span style=\"color: #808000; text-decoration-color: #808000\">μ</span>=<span style=\"color: #008080; text-decoration-color: #008080; font-weight: bold\">0.000</span> <span style=\"color: #808000; text-decoration-color: #808000\">σ</span>=<span style=\"color: #008080; text-decoration-color: #008080; font-weight: bold\">0.105</span> cu<span style=\"color: #00ff00; text-decoration-color: #00ff00; font-weight: bold\">da:0</span>,\n",
       "    <span style=\"color: #808000; text-decoration-color: #808000\">wigner_inv_from_grid</span>=<span style=\"color: #800080; text-decoration-color: #800080\">tensor</span><span style=\"font-weight: bold\">[</span><span style=\"color: #008080; text-decoration-color: #008080; font-weight: bold\">1218</span>, <span style=\"color: #008080; text-decoration-color: #008080; font-weight: bold\">81</span>, <span style=\"color: #008080; text-decoration-color: #008080; font-weight: bold\">342</span><span style=\"font-weight: bold\">]</span> <span style=\"color: #808000; text-decoration-color: #808000\">n</span>=<span style=\"color: #008080; text-decoration-color: #008080; font-weight: bold\">33741036</span> <span style=\"font-weight: bold\">(</span><span style=\"color: #008080; text-decoration-color: #008080; font-weight: bold\">0.</span>1Gb<span style=\"font-weight: bold\">)</span> x∈<span style=\"font-weight: bold\">[</span><span style=\"color: #008080; text-decoration-color: #008080; font-weight: bold\">-0.062</span>, <span style=\"color: #008080; text-decoration-color: #008080; font-weight: bold\">0.067</span><span style=\"font-weight: bold\">]</span> <span style=\"color: #808000; text-decoration-color: #808000\">μ</span>=<span style=\"color: #008080; text-decoration-color: #008080; font-weight: bold\">0.000</span> <span style=\"color: #808000; text-decoration-color: #808000\">σ</span>=<span style=\"color: #008080; text-decoration-color: #008080; font-weight: bold\">0.012</span> cu<span style=\"color: #00ff00; text-decoration-color: #00ff00; font-weight: bold\">da:0</span>,\n",
       "    <span style=\"color: #808000; text-decoration-color: #808000\">full_wigner</span>=<span style=\"color: #800080; text-decoration-color: #800080\">tensor</span><span style=\"font-weight: bold\">[</span><span style=\"color: #008080; text-decoration-color: #008080; font-weight: bold\">1218</span>, <span style=\"color: #008080; text-decoration-color: #008080; font-weight: bold\">81</span>, <span style=\"color: #008080; text-decoration-color: #008080; font-weight: bold\">81</span><span style=\"font-weight: bold\">]</span> <span style=\"color: #808000; text-decoration-color: #808000\">n</span>=<span style=\"color: #008080; text-decoration-color: #008080; font-weight: bold\">7991298</span> <span style=\"font-weight: bold\">(</span>30Mb<span style=\"font-weight: bold\">)</span> x∈<span style=\"font-weight: bold\">[</span><span style=\"color: #008080; text-decoration-color: #008080; font-weight: bold\">-1.000</span>, <span style=\"color: #008080; text-decoration-color: #008080; font-weight: bold\">1.000</span><span style=\"font-weight: bold\">]</span> <span style=\"color: #808000; text-decoration-color: #808000\">μ</span>=<span style=\"color: #008080; text-decoration-color: #008080; font-weight: bold\">0.000</span> <span style=\"color: #808000; text-decoration-color: #808000\">σ</span>=<span style=\"color: #008080; text-decoration-color: #008080; font-weight: bold\">0.111</span> cu<span style=\"color: #00ff00; text-decoration-color: #00ff00; font-weight: bold\">da:0</span>,\n",
       "    <span style=\"color: #808000; text-decoration-color: #808000\">rotmat</span>=<span style=\"color: #800080; text-decoration-color: #800080\">tensor</span><span style=\"font-weight: bold\">[</span><span style=\"color: #008080; text-decoration-color: #008080; font-weight: bold\">1218</span>, <span style=\"color: #008080; text-decoration-color: #008080; font-weight: bold\">3</span>, <span style=\"color: #008080; text-decoration-color: #008080; font-weight: bold\">3</span><span style=\"font-weight: bold\">]</span> <span style=\"color: #808000; text-decoration-color: #808000\">n</span>=<span style=\"color: #008080; text-decoration-color: #008080; font-weight: bold\">10962</span> <span style=\"font-weight: bold\">(</span>43Kb<span style=\"font-weight: bold\">)</span> x∈<span style=\"font-weight: bold\">[</span><span style=\"color: #008080; text-decoration-color: #008080; font-weight: bold\">-1.000</span>, <span style=\"color: #008080; text-decoration-color: #008080; font-weight: bold\">1.000</span><span style=\"font-weight: bold\">]</span> <span style=\"color: #808000; text-decoration-color: #808000\">μ</span>=<span style=\"color: #008080; text-decoration-color: #008080; font-weight: bold\">-0.050</span> <span style=\"color: #808000; text-decoration-color: #808000\">σ</span>=<span style=\"color: #008080; text-decoration-color: #008080; font-weight: bold\">0.575</span> cu<span style=\"color: #00ff00; text-decoration-color: #00ff00; font-weight: bold\">da:0</span>\n",
       "<span style=\"font-weight: bold\">)</span>\n",
       "</pre>\n"
      ],
      "text/plain": [
       "\u001b[1;35mRhomboidal_SO3_Rotation_Parallel_FastMM\u001b[0m\u001b[1m(\u001b[0m\n",
       "    \u001b[33mwigner\u001b[0m=\u001b[35mtensor\u001b[0m\u001b[1m[\u001b[0m\u001b[1;36m2436\u001b[0m, \u001b[1;36m50\u001b[0m, \u001b[1;36m81\u001b[0m\u001b[1m]\u001b[0m \u001b[33mn\u001b[0m=\u001b[1;36m9865800\u001b[0m \u001b[1m(\u001b[0m38Mb\u001b[1m)\u001b[0m x∈\u001b[1m[\u001b[0m\u001b[1;36m-1.000\u001b[0m, \u001b[1;36m1.000\u001b[0m\u001b[1m]\u001b[0m \u001b[33mμ\u001b[0m=\u001b[1;36m0\u001b[0m\u001b[1;36m.000\u001b[0m \u001b[33mσ\u001b[0m=\u001b[1;36m0\u001b[0m\u001b[1;36m.105\u001b[0m cu\u001b[1;92mda:0\u001b[0m,\n",
       "    \u001b[33mwigner_inv_from_grid\u001b[0m=\u001b[35mtensor\u001b[0m\u001b[1m[\u001b[0m\u001b[1;36m1218\u001b[0m, \u001b[1;36m81\u001b[0m, \u001b[1;36m342\u001b[0m\u001b[1m]\u001b[0m \u001b[33mn\u001b[0m=\u001b[1;36m33741036\u001b[0m \u001b[1m(\u001b[0m\u001b[1;36m0.\u001b[0m1Gb\u001b[1m)\u001b[0m x∈\u001b[1m[\u001b[0m\u001b[1;36m-0.062\u001b[0m, \u001b[1;36m0.067\u001b[0m\u001b[1m]\u001b[0m \u001b[33mμ\u001b[0m=\u001b[1;36m0\u001b[0m\u001b[1;36m.000\u001b[0m \u001b[33mσ\u001b[0m=\u001b[1;36m0\u001b[0m\u001b[1;36m.012\u001b[0m cu\u001b[1;92mda:0\u001b[0m,\n",
       "    \u001b[33mfull_wigner\u001b[0m=\u001b[35mtensor\u001b[0m\u001b[1m[\u001b[0m\u001b[1;36m1218\u001b[0m, \u001b[1;36m81\u001b[0m, \u001b[1;36m81\u001b[0m\u001b[1m]\u001b[0m \u001b[33mn\u001b[0m=\u001b[1;36m7991298\u001b[0m \u001b[1m(\u001b[0m30Mb\u001b[1m)\u001b[0m x∈\u001b[1m[\u001b[0m\u001b[1;36m-1.000\u001b[0m, \u001b[1;36m1.000\u001b[0m\u001b[1m]\u001b[0m \u001b[33mμ\u001b[0m=\u001b[1;36m0\u001b[0m\u001b[1;36m.000\u001b[0m \u001b[33mσ\u001b[0m=\u001b[1;36m0\u001b[0m\u001b[1;36m.111\u001b[0m cu\u001b[1;92mda:0\u001b[0m,\n",
       "    \u001b[33mrotmat\u001b[0m=\u001b[35mtensor\u001b[0m\u001b[1m[\u001b[0m\u001b[1;36m1218\u001b[0m, \u001b[1;36m3\u001b[0m, \u001b[1;36m3\u001b[0m\u001b[1m]\u001b[0m \u001b[33mn\u001b[0m=\u001b[1;36m10962\u001b[0m \u001b[1m(\u001b[0m43Kb\u001b[1m)\u001b[0m x∈\u001b[1m[\u001b[0m\u001b[1;36m-1.000\u001b[0m, \u001b[1;36m1.000\u001b[0m\u001b[1m]\u001b[0m \u001b[33mμ\u001b[0m=\u001b[1;36m-0.050\u001b[0m \u001b[33mσ\u001b[0m=\u001b[1;36m0\u001b[0m\u001b[1;36m.575\u001b[0m cu\u001b[1;92mda:0\u001b[0m\n",
       "\u001b[1m)\u001b[0m\n"
      ]
     },
     "metadata": {},
     "output_type": "display_data"
    }
   ],
   "source": [
    "from ocpmodels.models.rhescnv8clean.wigner_efficient import rot_from_xyz\n",
    "\n",
    "wigner_precomp = rot_from_xyz(\n",
    "    edge_distance_vec,\n",
    "    rhescn.rh_grid.from_grid_sh_tri,\n",
    "    rhescn.jdp,\n",
    "    rhescn.mmax_list[0],\n",
    "    rhescn.rh_idx,\n",
    "    rhescn.rh_mask,\n",
    "    device=edge_distance_vec.device,\n",
    "    dtype=edge_distance_vec.dtype,\n",
    "    keep_full_wigner=True,\n",
    "    keep_rot_mat=True,\n",
    "    rotmat_seed=0,\n",
    "    use_rotmat=True,\n",
    "    # vectorize=False,\n",
    ")\n",
    "rich.print(wigner_precomp)"
   ]
  },
  {
   "cell_type": "code",
   "execution_count": 45,
   "metadata": {},
   "outputs": [
    {
     "data": {
      "text/html": [
       "<pre style=\"white-space:pre;overflow-x:auto;line-height:normal;font-family:Menlo,'DejaVu Sans Mono',consolas,'Courier New',monospace\"><span style=\"color: #800080; text-decoration-color: #800080; font-weight: bold\">Rhomboidal_SO3_Rotation_Parallel_FastMM</span><span style=\"font-weight: bold\">(</span>\n",
       "    <span style=\"color: #808000; text-decoration-color: #808000\">wigner</span>=<span style=\"color: #800080; text-decoration-color: #800080\">tensor</span><span style=\"font-weight: bold\">[</span><span style=\"color: #008080; text-decoration-color: #008080; font-weight: bold\">2436</span>, <span style=\"color: #008080; text-decoration-color: #008080; font-weight: bold\">50</span>, <span style=\"color: #008080; text-decoration-color: #008080; font-weight: bold\">81</span><span style=\"font-weight: bold\">]</span> <span style=\"color: #808000; text-decoration-color: #808000\">n</span>=<span style=\"color: #008080; text-decoration-color: #008080; font-weight: bold\">9865800</span> <span style=\"font-weight: bold\">(</span>38Mb<span style=\"font-weight: bold\">)</span> x∈<span style=\"font-weight: bold\">[</span><span style=\"color: #008080; text-decoration-color: #008080; font-weight: bold\">-1.000</span>, <span style=\"color: #008080; text-decoration-color: #008080; font-weight: bold\">1.000</span><span style=\"font-weight: bold\">]</span> <span style=\"color: #808000; text-decoration-color: #808000\">μ</span>=<span style=\"color: #008080; text-decoration-color: #008080; font-weight: bold\">0.000</span> <span style=\"color: #808000; text-decoration-color: #808000\">σ</span>=<span style=\"color: #008080; text-decoration-color: #008080; font-weight: bold\">0.105</span> cu<span style=\"color: #00ff00; text-decoration-color: #00ff00; font-weight: bold\">da:0</span>,\n",
       "    <span style=\"color: #808000; text-decoration-color: #808000\">wigner_inv_from_grid</span>=<span style=\"color: #800080; text-decoration-color: #800080\">tensor</span><span style=\"font-weight: bold\">[</span><span style=\"color: #008080; text-decoration-color: #008080; font-weight: bold\">1218</span>, <span style=\"color: #008080; text-decoration-color: #008080; font-weight: bold\">81</span>, <span style=\"color: #008080; text-decoration-color: #008080; font-weight: bold\">342</span><span style=\"font-weight: bold\">]</span> <span style=\"color: #808000; text-decoration-color: #808000\">n</span>=<span style=\"color: #008080; text-decoration-color: #008080; font-weight: bold\">33741036</span> <span style=\"font-weight: bold\">(</span><span style=\"color: #008080; text-decoration-color: #008080; font-weight: bold\">0.</span>1Gb<span style=\"font-weight: bold\">)</span> x∈<span style=\"font-weight: bold\">[</span><span style=\"color: #008080; text-decoration-color: #008080; font-weight: bold\">-0.062</span>, <span style=\"color: #008080; text-decoration-color: #008080; font-weight: bold\">0.067</span><span style=\"font-weight: bold\">]</span> <span style=\"color: #808000; text-decoration-color: #808000\">μ</span>=<span style=\"color: #008080; text-decoration-color: #008080; font-weight: bold\">0.000</span> <span style=\"color: #808000; text-decoration-color: #808000\">σ</span>=<span style=\"color: #008080; text-decoration-color: #008080; font-weight: bold\">0.012</span> cu<span style=\"color: #00ff00; text-decoration-color: #00ff00; font-weight: bold\">da:0</span>,\n",
       "    <span style=\"color: #808000; text-decoration-color: #808000\">full_wigner</span>=<span style=\"color: #800080; text-decoration-color: #800080\">tensor</span><span style=\"font-weight: bold\">[</span><span style=\"color: #008080; text-decoration-color: #008080; font-weight: bold\">1218</span>, <span style=\"color: #008080; text-decoration-color: #008080; font-weight: bold\">81</span>, <span style=\"color: #008080; text-decoration-color: #008080; font-weight: bold\">81</span><span style=\"font-weight: bold\">]</span> <span style=\"color: #808000; text-decoration-color: #808000\">n</span>=<span style=\"color: #008080; text-decoration-color: #008080; font-weight: bold\">7991298</span> <span style=\"font-weight: bold\">(</span>30Mb<span style=\"font-weight: bold\">)</span> x∈<span style=\"font-weight: bold\">[</span><span style=\"color: #008080; text-decoration-color: #008080; font-weight: bold\">-1.000</span>, <span style=\"color: #008080; text-decoration-color: #008080; font-weight: bold\">1.000</span><span style=\"font-weight: bold\">]</span> <span style=\"color: #808000; text-decoration-color: #808000\">μ</span>=<span style=\"color: #008080; text-decoration-color: #008080; font-weight: bold\">0.000</span> <span style=\"color: #808000; text-decoration-color: #808000\">σ</span>=<span style=\"color: #008080; text-decoration-color: #008080; font-weight: bold\">0.111</span> cu<span style=\"color: #00ff00; text-decoration-color: #00ff00; font-weight: bold\">da:0</span>,\n",
       "    <span style=\"color: #808000; text-decoration-color: #808000\">rotmat</span>=<span style=\"color: #800080; text-decoration-color: #800080\">tensor</span><span style=\"font-weight: bold\">[</span><span style=\"color: #008080; text-decoration-color: #008080; font-weight: bold\">1218</span>, <span style=\"color: #008080; text-decoration-color: #008080; font-weight: bold\">3</span>, <span style=\"color: #008080; text-decoration-color: #008080; font-weight: bold\">3</span><span style=\"font-weight: bold\">]</span> <span style=\"color: #808000; text-decoration-color: #808000\">n</span>=<span style=\"color: #008080; text-decoration-color: #008080; font-weight: bold\">10962</span> <span style=\"font-weight: bold\">(</span>43Kb<span style=\"font-weight: bold\">)</span> x∈<span style=\"font-weight: bold\">[</span><span style=\"color: #008080; text-decoration-color: #008080; font-weight: bold\">-1.000</span>, <span style=\"color: #008080; text-decoration-color: #008080; font-weight: bold\">1.000</span><span style=\"font-weight: bold\">]</span> <span style=\"color: #808000; text-decoration-color: #808000\">μ</span>=<span style=\"color: #008080; text-decoration-color: #008080; font-weight: bold\">-0.050</span> <span style=\"color: #808000; text-decoration-color: #808000\">σ</span>=<span style=\"color: #008080; text-decoration-color: #008080; font-weight: bold\">0.575</span> cu<span style=\"color: #00ff00; text-decoration-color: #00ff00; font-weight: bold\">da:0</span>\n",
       "<span style=\"font-weight: bold\">)</span>\n",
       "</pre>\n"
      ],
      "text/plain": [
       "\u001b[1;35mRhomboidal_SO3_Rotation_Parallel_FastMM\u001b[0m\u001b[1m(\u001b[0m\n",
       "    \u001b[33mwigner\u001b[0m=\u001b[35mtensor\u001b[0m\u001b[1m[\u001b[0m\u001b[1;36m2436\u001b[0m, \u001b[1;36m50\u001b[0m, \u001b[1;36m81\u001b[0m\u001b[1m]\u001b[0m \u001b[33mn\u001b[0m=\u001b[1;36m9865800\u001b[0m \u001b[1m(\u001b[0m38Mb\u001b[1m)\u001b[0m x∈\u001b[1m[\u001b[0m\u001b[1;36m-1.000\u001b[0m, \u001b[1;36m1.000\u001b[0m\u001b[1m]\u001b[0m \u001b[33mμ\u001b[0m=\u001b[1;36m0\u001b[0m\u001b[1;36m.000\u001b[0m \u001b[33mσ\u001b[0m=\u001b[1;36m0\u001b[0m\u001b[1;36m.105\u001b[0m cu\u001b[1;92mda:0\u001b[0m,\n",
       "    \u001b[33mwigner_inv_from_grid\u001b[0m=\u001b[35mtensor\u001b[0m\u001b[1m[\u001b[0m\u001b[1;36m1218\u001b[0m, \u001b[1;36m81\u001b[0m, \u001b[1;36m342\u001b[0m\u001b[1m]\u001b[0m \u001b[33mn\u001b[0m=\u001b[1;36m33741036\u001b[0m \u001b[1m(\u001b[0m\u001b[1;36m0.\u001b[0m1Gb\u001b[1m)\u001b[0m x∈\u001b[1m[\u001b[0m\u001b[1;36m-0.062\u001b[0m, \u001b[1;36m0.067\u001b[0m\u001b[1m]\u001b[0m \u001b[33mμ\u001b[0m=\u001b[1;36m0\u001b[0m\u001b[1;36m.000\u001b[0m \u001b[33mσ\u001b[0m=\u001b[1;36m0\u001b[0m\u001b[1;36m.012\u001b[0m cu\u001b[1;92mda:0\u001b[0m,\n",
       "    \u001b[33mfull_wigner\u001b[0m=\u001b[35mtensor\u001b[0m\u001b[1m[\u001b[0m\u001b[1;36m1218\u001b[0m, \u001b[1;36m81\u001b[0m, \u001b[1;36m81\u001b[0m\u001b[1m]\u001b[0m \u001b[33mn\u001b[0m=\u001b[1;36m7991298\u001b[0m \u001b[1m(\u001b[0m30Mb\u001b[1m)\u001b[0m x∈\u001b[1m[\u001b[0m\u001b[1;36m-1.000\u001b[0m, \u001b[1;36m1.000\u001b[0m\u001b[1m]\u001b[0m \u001b[33mμ\u001b[0m=\u001b[1;36m0\u001b[0m\u001b[1;36m.000\u001b[0m \u001b[33mσ\u001b[0m=\u001b[1;36m0\u001b[0m\u001b[1;36m.111\u001b[0m cu\u001b[1;92mda:0\u001b[0m,\n",
       "    \u001b[33mrotmat\u001b[0m=\u001b[35mtensor\u001b[0m\u001b[1m[\u001b[0m\u001b[1;36m1218\u001b[0m, \u001b[1;36m3\u001b[0m, \u001b[1;36m3\u001b[0m\u001b[1m]\u001b[0m \u001b[33mn\u001b[0m=\u001b[1;36m10962\u001b[0m \u001b[1m(\u001b[0m43Kb\u001b[1m)\u001b[0m x∈\u001b[1m[\u001b[0m\u001b[1;36m-1.000\u001b[0m, \u001b[1;36m1.000\u001b[0m\u001b[1m]\u001b[0m \u001b[33mμ\u001b[0m=\u001b[1;36m-0.050\u001b[0m \u001b[33mσ\u001b[0m=\u001b[1;36m0\u001b[0m\u001b[1;36m.575\u001b[0m cu\u001b[1;92mda:0\u001b[0m\n",
       "\u001b[1m)\u001b[0m\n"
      ]
     },
     "metadata": {},
     "output_type": "display_data"
    },
    {
     "data": {
      "text/html": [
       "<pre style=\"white-space:pre;overflow-x:auto;line-height:normal;font-family:Menlo,'DejaVu Sans Mono',consolas,'Courier New',monospace\">tensor<span style=\"font-weight: bold\">[</span><span style=\"color: #008080; text-decoration-color: #008080; font-weight: bold\">1218</span>, <span style=\"color: #008080; text-decoration-color: #008080; font-weight: bold\">3</span>, <span style=\"color: #008080; text-decoration-color: #008080; font-weight: bold\">3</span><span style=\"font-weight: bold\">]</span> <span style=\"color: #808000; text-decoration-color: #808000\">n</span>=<span style=\"color: #008080; text-decoration-color: #008080; font-weight: bold\">10962</span> <span style=\"font-weight: bold\">(</span>43Kb<span style=\"font-weight: bold\">)</span> x∈<span style=\"font-weight: bold\">[</span><span style=\"color: #008080; text-decoration-color: #008080; font-weight: bold\">-1.000</span>, <span style=\"color: #008080; text-decoration-color: #008080; font-weight: bold\">1.000</span><span style=\"font-weight: bold\">]</span> <span style=\"color: #808000; text-decoration-color: #808000\">μ</span>=<span style=\"color: #008080; text-decoration-color: #008080; font-weight: bold\">-0.050</span> <span style=\"color: #808000; text-decoration-color: #808000\">σ</span>=<span style=\"color: #008080; text-decoration-color: #008080; font-weight: bold\">0.575</span> cu<span style=\"color: #00ff00; text-decoration-color: #00ff00; font-weight: bold\">da:0</span>\n",
       "</pre>\n"
      ],
      "text/plain": [
       "tensor\u001b[1m[\u001b[0m\u001b[1;36m1218\u001b[0m, \u001b[1;36m3\u001b[0m, \u001b[1;36m3\u001b[0m\u001b[1m]\u001b[0m \u001b[33mn\u001b[0m=\u001b[1;36m10962\u001b[0m \u001b[1m(\u001b[0m43Kb\u001b[1m)\u001b[0m x∈\u001b[1m[\u001b[0m\u001b[1;36m-1.000\u001b[0m, \u001b[1;36m1.000\u001b[0m\u001b[1m]\u001b[0m \u001b[33mμ\u001b[0m=\u001b[1;36m-0.050\u001b[0m \u001b[33mσ\u001b[0m=\u001b[1;36m0\u001b[0m\u001b[1;36m.575\u001b[0m cu\u001b[1;92mda:0\u001b[0m\n"
      ]
     },
     "metadata": {},
     "output_type": "display_data"
    },
    {
     "name": "stdout",
     "output_type": "stream",
     "text": [
      "SO3_Rotation()\n"
     ]
    }
   ],
   "source": [
    "import torch\n",
    "\n",
    "from ocpmodels.models.escn.so3 import SO3_Rotation\n",
    "from ocpmodels.models.rhescnv8clean.wigner_efficient import rot_from_xyz\n",
    "\n",
    "wigner_precomp = rot_from_xyz(\n",
    "    edge_distance_vec,\n",
    "    rhescn.rh_grid.from_grid_sh_tri,\n",
    "    rhescn.jdp,\n",
    "    rhescn.mmax_list[0],\n",
    "    rhescn.rh_idx,\n",
    "    rhescn.rh_mask,\n",
    "    device=edge_distance_vec.device,\n",
    "    dtype=edge_distance_vec.dtype,\n",
    "    keep_full_wigner=True,\n",
    "    keep_rot_mat=True,\n",
    "    rotmat_seed=0,\n",
    "    use_rotmat=True,\n",
    "    # vectorize=False,\n",
    ")\n",
    "rich.print(wigner_precomp)\n",
    "\n",
    "edge_rot_mat = escn._init_edge_rot_mat(\n",
    "    batch,\n",
    "    edge_index,\n",
    "    edge_distance_vec,\n",
    "    seed=0,\n",
    ")\n",
    "rich.print(edge_rot_mat)\n",
    "\n",
    "if wigner_precomp.rotmat is not None:\n",
    "    torch.testing.assert_close(wigner_precomp.rotmat, edge_rot_mat)\n",
    "\n",
    "\n",
    "SO3_edge_rot = SO3_Rotation(edge_rot_mat, escn.lmax_list[0])\n",
    "print(SO3_edge_rot)\n",
    "\n",
    "torch.testing.assert_close(\n",
    "    SO3_edge_rot.wigner,\n",
    "    wigner_precomp.full_wigner,\n",
    ")"
   ]
  },
  {
   "cell_type": "code",
   "execution_count": 56,
   "metadata": {},
   "outputs": [
    {
     "data": {
      "text/html": [
       "<pre style=\"white-space:pre;overflow-x:auto;line-height:normal;font-family:Menlo,'DejaVu Sans Mono',consolas,'Courier New',monospace\"><span style=\"font-weight: bold\">{</span>\n",
       "    <span style=\"color: #008000; text-decoration-color: #008000\">'rhescn_to_grid_mat'</span>: tensor<span style=\"font-weight: bold\">[</span><span style=\"color: #008080; text-decoration-color: #008080; font-weight: bold\">342</span>, <span style=\"color: #008080; text-decoration-color: #008080; font-weight: bold\">81</span><span style=\"font-weight: bold\">]</span> <span style=\"color: #808000; text-decoration-color: #808000\">n</span>=<span style=\"color: #008080; text-decoration-color: #008080; font-weight: bold\">27702</span> <span style=\"font-weight: bold\">(</span><span style=\"color: #008080; text-decoration-color: #008080; font-weight: bold\">0.</span>1Mb<span style=\"font-weight: bold\">)</span> x∈<span style=\"font-weight: bold\">[</span><span style=\"color: #008080; text-decoration-color: #008080; font-weight: bold\">-0.979</span>, <span style=\"color: #008080; text-decoration-color: #008080; font-weight: bold\">1.009</span><span style=\"font-weight: bold\">]</span> <span style=\"color: #808000; text-decoration-color: #808000\">μ</span>=<span style=\"color: #008080; text-decoration-color: #008080; font-weight: bold\">0.009</span> <span style=\"color: #808000; text-decoration-color: #808000\">σ</span>=<span style=\"color: #008080; text-decoration-color: #008080; font-weight: bold\">0.282</span> cu<span style=\"color: #00ff00; text-decoration-color: #00ff00; font-weight: bold\">da:0</span>,\n",
       "    <span style=\"color: #008000; text-decoration-color: #008000\">'escn_to_grid_mat'</span>: tensor<span style=\"font-weight: bold\">[</span><span style=\"color: #008080; text-decoration-color: #008080; font-weight: bold\">342</span>, <span style=\"color: #008080; text-decoration-color: #008080; font-weight: bold\">81</span><span style=\"font-weight: bold\">]</span> <span style=\"color: #808000; text-decoration-color: #808000\">n</span>=<span style=\"color: #008080; text-decoration-color: #008080; font-weight: bold\">27702</span> <span style=\"font-weight: bold\">(</span><span style=\"color: #008080; text-decoration-color: #008080; font-weight: bold\">0.</span>1Mb<span style=\"font-weight: bold\">)</span> x∈<span style=\"font-weight: bold\">[</span><span style=\"color: #008080; text-decoration-color: #008080; font-weight: bold\">-0.979</span>, <span style=\"color: #008080; text-decoration-color: #008080; font-weight: bold\">1.009</span><span style=\"font-weight: bold\">]</span> <span style=\"color: #808000; text-decoration-color: #808000\">μ</span>=<span style=\"color: #008080; text-decoration-color: #008080; font-weight: bold\">0.009</span> <span style=\"color: #808000; text-decoration-color: #808000\">σ</span>=<span style=\"color: #008080; text-decoration-color: #008080; font-weight: bold\">0.282</span> cu<span style=\"color: #00ff00; text-decoration-color: #00ff00; font-weight: bold\">da:0</span>\n",
       "<span style=\"font-weight: bold\">}</span>\n",
       "</pre>\n"
      ],
      "text/plain": [
       "\u001b[1m{\u001b[0m\n",
       "    \u001b[32m'rhescn_to_grid_mat'\u001b[0m: tensor\u001b[1m[\u001b[0m\u001b[1;36m342\u001b[0m, \u001b[1;36m81\u001b[0m\u001b[1m]\u001b[0m \u001b[33mn\u001b[0m=\u001b[1;36m27702\u001b[0m \u001b[1m(\u001b[0m\u001b[1;36m0.\u001b[0m1Mb\u001b[1m)\u001b[0m x∈\u001b[1m[\u001b[0m\u001b[1;36m-0.979\u001b[0m, \u001b[1;36m1.009\u001b[0m\u001b[1m]\u001b[0m \u001b[33mμ\u001b[0m=\u001b[1;36m0\u001b[0m\u001b[1;36m.009\u001b[0m \u001b[33mσ\u001b[0m=\u001b[1;36m0\u001b[0m\u001b[1;36m.282\u001b[0m cu\u001b[1;92mda:0\u001b[0m,\n",
       "    \u001b[32m'escn_to_grid_mat'\u001b[0m: tensor\u001b[1m[\u001b[0m\u001b[1;36m342\u001b[0m, \u001b[1;36m81\u001b[0m\u001b[1m]\u001b[0m \u001b[33mn\u001b[0m=\u001b[1;36m27702\u001b[0m \u001b[1m(\u001b[0m\u001b[1;36m0.\u001b[0m1Mb\u001b[1m)\u001b[0m x∈\u001b[1m[\u001b[0m\u001b[1;36m-0.979\u001b[0m, \u001b[1;36m1.009\u001b[0m\u001b[1m]\u001b[0m \u001b[33mμ\u001b[0m=\u001b[1;36m0\u001b[0m\u001b[1;36m.009\u001b[0m \u001b[33mσ\u001b[0m=\u001b[1;36m0\u001b[0m\u001b[1;36m.282\u001b[0m cu\u001b[1;92mda:0\u001b[0m\n",
       "\u001b[1m}\u001b[0m\n"
      ]
     },
     "metadata": {},
     "output_type": "display_data"
    },
    {
     "data": {
      "text/html": [
       "<pre style=\"white-space:pre;overflow-x:auto;line-height:normal;font-family:Menlo,'DejaVu Sans Mono',consolas,'Courier New',monospace\"><span style=\"font-weight: bold\">{</span>\n",
       "    <span style=\"color: #008000; text-decoration-color: #008000\">'rhescn_from_grid_mat'</span>: tensor<span style=\"font-weight: bold\">[</span><span style=\"color: #008080; text-decoration-color: #008080; font-weight: bold\">81</span>, <span style=\"color: #008080; text-decoration-color: #008080; font-weight: bold\">342</span><span style=\"font-weight: bold\">]</span> <span style=\"color: #808000; text-decoration-color: #808000\">n</span>=<span style=\"color: #008080; text-decoration-color: #008080; font-weight: bold\">27702</span> <span style=\"font-weight: bold\">(</span><span style=\"color: #008080; text-decoration-color: #008080; font-weight: bold\">0.</span>1Mb<span style=\"font-weight: bold\">)</span> x∈<span style=\"font-weight: bold\">[</span><span style=\"color: #008080; text-decoration-color: #008080; font-weight: bold\">-0.041</span>, <span style=\"color: #008080; text-decoration-color: #008080; font-weight: bold\">0.041</span><span style=\"font-weight: bold\">]</span> <span style=\"color: #808000; text-decoration-color: #808000\">μ</span>=<span style=\"color: #008080; text-decoration-color: #008080; font-weight: bold\">0.000</span> <span style=\"color: #808000; text-decoration-color: #808000\">σ</span>=<span style=\"color: #008080; text-decoration-color: #008080; font-weight: bold\">0.012</span> cu<span style=\"color: #00ff00; text-decoration-color: #00ff00; font-weight: bold\">da:0</span>,\n",
       "    <span style=\"color: #008000; text-decoration-color: #008000\">'escn_from_grid_mat'</span>: tensor<span style=\"font-weight: bold\">[</span><span style=\"color: #008080; text-decoration-color: #008080; font-weight: bold\">81</span>, <span style=\"color: #008080; text-decoration-color: #008080; font-weight: bold\">342</span><span style=\"font-weight: bold\">]</span> <span style=\"color: #808000; text-decoration-color: #808000\">n</span>=<span style=\"color: #008080; text-decoration-color: #008080; font-weight: bold\">27702</span> <span style=\"font-weight: bold\">(</span><span style=\"color: #008080; text-decoration-color: #008080; font-weight: bold\">0.</span>1Mb<span style=\"font-weight: bold\">)</span> x∈<span style=\"font-weight: bold\">[</span><span style=\"color: #008080; text-decoration-color: #008080; font-weight: bold\">-0.041</span>, <span style=\"color: #008080; text-decoration-color: #008080; font-weight: bold\">0.041</span><span style=\"font-weight: bold\">]</span> <span style=\"color: #808000; text-decoration-color: #808000\">μ</span>=<span style=\"color: #008080; text-decoration-color: #008080; font-weight: bold\">0.000</span> <span style=\"color: #808000; text-decoration-color: #808000\">σ</span>=<span style=\"color: #008080; text-decoration-color: #008080; font-weight: bold\">0.012</span> cu<span style=\"color: #00ff00; text-decoration-color: #00ff00; font-weight: bold\">da:0</span>\n",
       "<span style=\"font-weight: bold\">}</span>\n",
       "</pre>\n"
      ],
      "text/plain": [
       "\u001b[1m{\u001b[0m\n",
       "    \u001b[32m'rhescn_from_grid_mat'\u001b[0m: tensor\u001b[1m[\u001b[0m\u001b[1;36m81\u001b[0m, \u001b[1;36m342\u001b[0m\u001b[1m]\u001b[0m \u001b[33mn\u001b[0m=\u001b[1;36m27702\u001b[0m \u001b[1m(\u001b[0m\u001b[1;36m0.\u001b[0m1Mb\u001b[1m)\u001b[0m x∈\u001b[1m[\u001b[0m\u001b[1;36m-0.041\u001b[0m, \u001b[1;36m0.041\u001b[0m\u001b[1m]\u001b[0m \u001b[33mμ\u001b[0m=\u001b[1;36m0\u001b[0m\u001b[1;36m.000\u001b[0m \u001b[33mσ\u001b[0m=\u001b[1;36m0\u001b[0m\u001b[1;36m.012\u001b[0m cu\u001b[1;92mda:0\u001b[0m,\n",
       "    \u001b[32m'escn_from_grid_mat'\u001b[0m: tensor\u001b[1m[\u001b[0m\u001b[1;36m81\u001b[0m, \u001b[1;36m342\u001b[0m\u001b[1m]\u001b[0m \u001b[33mn\u001b[0m=\u001b[1;36m27702\u001b[0m \u001b[1m(\u001b[0m\u001b[1;36m0.\u001b[0m1Mb\u001b[1m)\u001b[0m x∈\u001b[1m[\u001b[0m\u001b[1;36m-0.041\u001b[0m, \u001b[1;36m0.041\u001b[0m\u001b[1m]\u001b[0m \u001b[33mμ\u001b[0m=\u001b[1;36m0\u001b[0m\u001b[1;36m.000\u001b[0m \u001b[33mσ\u001b[0m=\u001b[1;36m0\u001b[0m\u001b[1;36m.012\u001b[0m cu\u001b[1;92mda:0\u001b[0m\n",
       "\u001b[1m}\u001b[0m\n"
      ]
     },
     "metadata": {},
     "output_type": "display_data"
    }
   ],
   "source": [
    "escn_grid = escn.SO3_grid[-1][-1]\n",
    "escn_grid._initialize(batch.pos.device)\n",
    "\n",
    "rhescn_to_grid_mat = rhescn.rh_grid.to_grid_sh_tri\n",
    "escn_to_grid_mat = escn_grid.to_grid_mat.view(-1, escn_grid.to_grid_mat.shape[-1])\n",
    "rich.print(\n",
    "    {\n",
    "        \"rhescn_to_grid_mat\": rhescn_to_grid_mat,\n",
    "        \"escn_to_grid_mat\": escn_to_grid_mat,\n",
    "    }\n",
    ")\n",
    "torch.testing.assert_close(\n",
    "    rhescn.rh_grid.to_grid_sh_tri,\n",
    "    escn_grid.to_grid_mat.view(-1, escn_grid.to_grid_mat.shape[-1]),\n",
    ")\n",
    "\n",
    "rhescn_from_grid_mat = rhescn.rh_grid.from_grid_sh_tri\n",
    "escn_from_grid_mat = escn_grid.from_grid_mat.reshape(\n",
    "    -1, escn_grid.from_grid_mat.shape[-1]\n",
    ").T\n",
    "rich.print(\n",
    "    {\n",
    "        \"rhescn_from_grid_mat\": rhescn_from_grid_mat,\n",
    "        \"escn_from_grid_mat\": escn_from_grid_mat,\n",
    "    }\n",
    ")\n",
    "torch.testing.assert_close(rhescn_from_grid_mat, escn_from_grid_mat)"
   ]
  },
  {
   "cell_type": "code",
   "execution_count": 92,
   "metadata": {},
   "outputs": [
    {
     "data": {
      "text/plain": [
       "tensor[18, 19] n=342 (1.3Kb) x∈[0.282, 0.282] μ=0.282 σ=0. cuda:0"
      ]
     },
     "execution_count": 92,
     "metadata": {},
     "output_type": "execute_result"
    }
   ],
   "source": [
    "from e3nn.o3 import ToS2Grid\n",
    "\n",
    "device = escn_grid.to_grid_mat.device\n",
    "to_grid = ToS2Grid(\n",
    "    escn_grid.lmax,\n",
    "    (escn_grid.lat_resolution, escn_grid.long_resolution),\n",
    "    normalization=\"integral\",\n",
    "    device=device,\n",
    ")\n",
    "to_grid_mat = torch.einsum(\"mbi,am->bai\", to_grid.shb, to_grid.sha).detach()\n",
    "to_grid_mat[:, :, 0]"
   ]
  },
  {
   "cell_type": "code",
   "execution_count": 103,
   "metadata": {},
   "outputs": [
    {
     "data": {
      "text/plain": [
       "tensor[18, 19, 1] n=342 (1.3Kb) x∈[0.001, 0.016] μ=0.010 σ=0.005 cuda:0"
      ]
     },
     "execution_count": 103,
     "metadata": {},
     "output_type": "execute_result"
    }
   ],
   "source": [
    "from e3nn.o3 import FromS2Grid\n",
    "\n",
    "device = escn_grid.from_grid_mat.device\n",
    "from_grid = FromS2Grid(\n",
    "    (escn_grid.lat_resolution, escn_grid.long_resolution),\n",
    "    0,\n",
    "    normalization=\"integral\",\n",
    "    device=device,\n",
    ")\n",
    "from_grid_mat = torch.einsum(\"am,mbi->bai\", from_grid.sha, from_grid.shb).detach()\n",
    "from_grid_mat"
   ]
  },
  {
   "cell_type": "code",
   "execution_count": 105,
   "metadata": {},
   "outputs": [
    {
     "data": {
      "image/png": "[encoded data removed]",
      "text/plain": [
       "<Figure size 640x480 with 2 Axes>"
      ]
     },
     "metadata": {},
     "output_type": "display_data"
    },
    {
     "data": {
      "image/png": "[encoded data removed]",
      "text/plain": [
       "<Figure size 640x480 with 2 Axes>"
      ]
     },
     "metadata": {},
     "output_type": "display_data"
    }
   ],
   "source": [
    "import matplotlib.pyplot as plt\n",
    "import seaborn as sns\n",
    "\n",
    "sns.heatmap(to_grid_mat[:, :, 0].cpu().numpy())\n",
    "plt.show()\n",
    "\n",
    "sns.heatmap(from_grid_mat[:, :, 0].cpu().numpy())\n",
    "plt.show()"
   ]
  }
 ],
 "metadata": {
  "kernelspec": {
   "display_name": "ocp-pt22",
   "language": "python",
   "name": "python3"
  },
  "language_info": {
   "codemirror_mode": {
    "name": "ipython",
    "version": 3
   },
   "file_extension": ".py",
   "mimetype": "text/x-python",
   "name": "python",
   "nbconvert_exporter": "python",
   "pygments_lexer": "ipython3",
   "version": "3.11.6"
  }
 },
 "nbformat": 4,
 "nbformat_minor": 2
}
